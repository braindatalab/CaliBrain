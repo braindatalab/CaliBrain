{
  "cells": [
    {
      "cell_type": "code",
      "execution_count": null,
      "metadata": {
        "collapsed": false
      },
      "outputs": [],
      "source": [
        "# This tutorial is available for download as a Jupyter notebook"
      ]
    },
    {
      "cell_type": "markdown",
      "metadata": {},
      "source": [
        "\n\n# Source Data Simulation with SourceSimulator\n\nThis tutorial demonstrates how to use the :class:`~calibrain.SourceSimulator` class\nto generate synthetic brain activity data for neuroimaging research (e.g., MEG/EEG \nsource simulation). The SourceSimulator creates event-related potential (ERP)-like \nsignals that can be used to test source localization algorithms, validate analysis \npipelines, and benchmark uncertainty quantification methods.\n"
      ]
    },
    {
      "cell_type": "code",
      "execution_count": null,
      "metadata": {
        "collapsed": false
      },
      "outputs": [],
      "source": [
        "# Authors: Mohammad Orabe  <m.orabe@icloud.com>\n# License: AGPL-3.0 license\n# Copyright the CaliBrain contributors."
      ]
    },
    {
      "cell_type": "markdown",
      "metadata": {},
      "source": [
        "## Background\n\nThis tutorial focuses specifically on simulating stimulus-locked \nERP-like signals at brain sources, which form the foundation for neuroimaging \ndata simulation.\n\nThe SourceSimulator creates band-limited, windowed signals that mimic realistic \nevent-related potentials (ERPs) time-locked to stimulus onset. The class can \nsimulate multi-trial source time courses, where each trial contains a specific \nnumber of active sources at randomly selected locations. These simulated source\nactivities can then be used as input for forward modeling, inverse problem \nvalidation, and uncertainty quantification benchmarking.\n\n**Scope:** The CaliBrain framework implements a comprehensive 7-stage pipeline for\nneuroimaging simulation and validation. This tutorial covers **source-level \nsimulation only** - the generation of neural activity patterns at cortical locations.\nFor projecting these sources to sensors using forward models and adding controlled \nnoise, see the sensor simulation tutorial.\n\n```text\n\u250c\u2500\u2500\u2500\u2500\u2500\u2500\u2500\u2500\u2500\u2500\u2500\u2500\u2500\u2500\u2500\u2510    \u250f\u2501\u2501\u2501\u2501\u2501\u2501\u2501\u2501\u2501\u2501\u2501\u2501\u2501\u2501\u2501\u2513    \u250c\u2500\u2500\u2500\u2500\u2500\u2500\u2500\u2500\u2500\u2500\u2500\u2500\u2500\u2500\u2500\u2510    \u250c\u2500\u2500\u2500\u2500\u2500\u2500\u2500\u2500\u2500\u2500\u2500\u2500\u2500\u2500\u2500\u2510\n\u2502   Leadfield   \u2502 \u2192  \u2503   \u2605 Source    \u2503 \u2192  \u2502    Sensor     \u2502 \u2192  \u2502    Source     \u2502\n\u2502 Construction  \u2502    \u2503  Simulation   \u2503    \u2502  Simulation   \u2502    \u2502  Estimation   \u2502\n\u2514\u2500\u2500\u2500\u2500\u2500\u2500\u2500\u2500\u2500\u2500\u2500\u2500\u2500\u2500\u2500\u2518    \u2517\u2501\u2501\u2501\u2501\u2501\u2501\u2501\u2501\u2501\u2501\u2501\u2501\u2501\u2501\u2501\u251b    \u2514\u2500\u2500\u2500\u2500\u2500\u2500\u2500\u2500\u2500\u2500\u2500\u2500\u2500\u2500\u2500\u2518    \u2514\u2500\u2500\u2500\u2500\u2500\u2500\u2500\u2500\u2500\u2500\u2500\u2500\u2500\u2500\u2500\u2518\n                                                                      \u2193\n                     \u250c\u2500\u2500\u2500\u2500\u2500\u2500\u2500\u2500\u2500\u2500\u2500\u2500\u2500\u2500\u2500\u2510    \u250c\u2500\u2500\u2500\u2500\u2500\u2500\u2500\u2500\u2500\u2500\u2500\u2500\u2500\u2500\u2500\u2510    \u250c\u2500\u2500\u2500\u2500\u2500\u2500\u2500\u2500\u2500\u2500\u2500\u2500\u2500\u2500\u2500\u2510\n                     \u2502  Evaluation   \u2502 \u2190  \u2502 Visualization \u2502 \u2190  \u2502  Uncertainty  \u2502\n                     \u2502               \u2502    \u2502               \u2502    \u2502   Estimation  \u2502\n                     \u2514\u2500\u2500\u2500\u2500\u2500\u2500\u2500\u2500\u2500\u2500\u2500\u2500\u2500\u2500\u2500\u2518    \u2514\u2500\u2500\u2500\u2500\u2500\u2500\u2500\u2500\u2500\u2500\u2500\u2500\u2500\u2500\u2500\u2518    \u2514\u2500\u2500\u2500\u2500\u2500\u2500\u2500\u2500\u2500\u2500\u2500\u2500\u2500\u2500\u2500\u2518\n```\n"
      ]
    },
    {
      "cell_type": "markdown",
      "metadata": {},
      "source": [
        "### Mathematical Formulation\n\nLet $N$ denote the number of sources and $T$ the \nnumber of time points.\n\nThe ERP-like signal for each active source is generated through a 5-step process:\n\n**1. Generate white noise:** Create a zero-mean white Gaussian noise sequence:\n\n\\begin{align}w(t) \\sim \\mathcal{N}(0, 1) \\quad \\text{with length } T\\end{align}\n\n**2. Bandpass filter:** Apply a 4th-order Butterworth bandpass filter:\n\n\\begin{align}e(t) = \\text{filtfilt}(b, a, w(t))\\end{align}\n\nwhere $b, a$ are filter coefficients within the passband \n$(f_{\\min}, f_{\\max})$.\n\n**3. Windowing:** Apply a Hanning window $h(t) \\in \\mathbb{R}^{T}$ to \nrestrict temporal extent:\n\n\\begin{align}\\tilde{e}(t) = e(t) \\cdot h(t)\\end{align}\n\n**4. Normalization:** Standardize by peak amplitude:\n\n\\begin{align}\\hat{e}(t) = \\frac{\\tilde{e}(t)}{\\max(|\\tilde{e}(t)|)}\\end{align}\n\n**5. Amplitude scaling:** Define signal strength using scalar \n$A \\in \\mathbb{R}_{+}$:\n\n\\begin{align}x(t) = A \\cdot \\hat{e}(t)\\end{align}\n\nEach time series $x(t)$ becomes a row in the source matrix \n$\\mathbf{X} \\in \\mathbb{R}^{N \\times T}$, containing all source time courses.\n\n"
      ]
    },
    {
      "cell_type": "markdown",
      "metadata": {},
      "source": [
        "### Multi-Trial Simulation\n\nThe simulation supports generating multiple trials by iterating $n_{\\text{trials}}$ times.\nWithin each iteration, the script generates source activity $\\mathbf{X}$ with a unique random seed, ensuring reproducible yet varied simulations across trials.\n\nThe resulting data is organized as a 3D array: trials $\\times$ sources \n$\\times$ time points.\n\n<div class=\"alert alert-info\"><h4>Note</h4><p>Although multiple trials can be generated, this tutorial focuses on \n   single-trial analysis since the inverse solvers and uncertainty estimation \n   methods in CaliBrain typically operate on individual trials.</p></div>\n\n"
      ]
    },
    {
      "cell_type": "code",
      "execution_count": null,
      "metadata": {
        "collapsed": false
      },
      "outputs": [],
      "source": [
        "import numpy as np\nimport matplotlib.pyplot as plt\nimport logging\nfrom pathlib import Path"
      ]
    },
    {
      "cell_type": "markdown",
      "metadata": {},
      "source": [
        "## The SourceSimulator Class\n\nThe :class:`~calibrain.source_simulation.SourceSimulator` class is located in the \n``calibrain/source_simulation.py`` module and serves as the core component \nfor generating synthetic brain activity data at the source level.\n\n"
      ]
    },
    {
      "cell_type": "markdown",
      "metadata": {},
      "source": [
        "### Class Methods\n\nThe :class:`~calibrain.source_simulation.SourceSimulator` class consists of three core methods:\n   - :meth:`~calibrain.source_simulation.SourceSimulator._simulate_erp_waveform`: Internal method for generating individual ERP-like signals\n   - :meth:`~calibrain.source_simulation.SourceSimulator._simulate_source_time_courses`: Internal method for creating time courses for multiple sources\n   - :meth:`~calibrain.source_simulation.SourceSimulator.simulate`: Main public method for multi-trial simulation. This is the main method that should be used as it wraps the core functionality. Later one can slice specific trials when needed.\n\nThe :class:`~calibrain.source_simulation.SourceSimulator` class is part of the CaliBrain package and can be imported directly as follows:\n\n\n"
      ]
    },
    {
      "cell_type": "code",
      "execution_count": null,
      "metadata": {
        "collapsed": false
      },
      "outputs": [],
      "source": [
        "from calibrain import SourceSimulator"
      ]
    },
    {
      "cell_type": "markdown",
      "metadata": {},
      "source": [
        "### Basic Usage Example\nThe :class:`~calibrain.source_simulation.SourceSimulator` class expects a configuration dictionary for ERP parameters and a logger. However if we do not provide these, default values will be used.\nThe :meth:`~calibrain.source_simulation.SourceSimulator.simulate` function of the :class:`~calibrain.source_simulation.SourceSimulator` class is the main entry point for running the simulation and also expects configuration parameters. If no parameters are provided, default values will be used.\n\nQuick demonstration with default parameters.\n\n"
      ]
    },
    {
      "cell_type": "code",
      "execution_count": null,
      "metadata": {
        "collapsed": false
      },
      "outputs": [],
      "source": [
        "demo_simulator = SourceSimulator()   # use default ERP parameters\nx_demo, active_indices_demo = demo_simulator.simulate() # use default simulation parameters\n\n# We can always use the CaliBrain's utility function :func:`~calibrain.utils.inspect_object` to explore any \n# class structure and understand its available attributes and methods:\n\nfrom calibrain.utils import inspect_object\n\nclass_info = inspect_object(demo_simulator, show_private=False)"
      ]
    },
    {
      "cell_type": "markdown",
      "metadata": {},
      "source": [
        "### Specific Configuration and Simulation\n\nThe :class:`~calibrain.source_simulation.SourceSimulator` follows a typical usage pattern:\n\n- **Step 1:** Configure ERP parameters\n- **Step 2:** Initialize the simulator\n- **Step 3:** Call simulate() method\n- **Step 4:** Analyze the returned data\n\n"
      ]
    },
    {
      "cell_type": "markdown",
      "metadata": {},
      "source": [
        "Let's explore a more detailed example with custom configuration.\n\nConfigure logging to see simulation progress\n\n"
      ]
    },
    {
      "cell_type": "code",
      "execution_count": null,
      "metadata": {
        "collapsed": false
      },
      "outputs": [],
      "source": [
        "logging.basicConfig(\n    level=logging.INFO, # Set to logging.DEBUG for more detailed output\n    format=\"%(asctime)s | %(levelname)s | %(name)s | %(message)s\",\n    handlers=[logging.StreamHandler()]\n)\nlogger = logging.getLogger(\"SourceSimulator\")"
      ]
    },
    {
      "cell_type": "markdown",
      "metadata": {},
      "source": [
        "The ERP configuration controls all aspects of the simulated brain activity.\n\n\n"
      ]
    },
    {
      "cell_type": "code",
      "execution_count": null,
      "metadata": {
        "collapsed": false
      },
      "outputs": [],
      "source": [
        "erp_config = {\n    \"tmin\": -0.5,                # Start time of epoch (seconds before stimulus)\n    \"tmax\": 0.5,                 # End time of epoch (seconds after stimulus)\n    \"stim_onset\": 0.0,           # Stimulus onset time (relative to epoch start)\n    \"sfreq\": 250,                # Sampling frequency in Hz\n    \"fmin\": 1,                   # Minimum frequency for bandpass filter (Hz)\n    \"fmax\": 5,                   # Maximum frequency for bandpass filter (Hz)\n    \"amplitude\": 1.0,            # Amplitude scaling factor\n    \"random_erp_timing\": True,   # Whether to randomize ERP onset and duration\n    \"erp_min_length\": None       # Minimum ERP duration in samples (None = auto)\n}"
      ]
    },
    {
      "cell_type": "markdown",
      "metadata": {},
      "source": [
        "Create and Configure SourceSimulator\n\n\n"
      ]
    },
    {
      "cell_type": "code",
      "execution_count": null,
      "metadata": {
        "collapsed": false
      },
      "outputs": [],
      "source": [
        "source_simulator = SourceSimulator(\n    ERP_config=erp_config,\n    logger=logger\n)\nprint(f\"- Default units: {source_simulator.source_units}\") # -> Am"
      ]
    },
    {
      "cell_type": "markdown",
      "metadata": {},
      "source": [
        "<div class=\"alert alert-info\"><h4>Note</h4><p>Default units are set to Amperes (Am) which corresponds to FIFF.FIFF_UNIT_AM\n   in MNE notation. This ensures compatibility with standard neuroimaging formats.\n   See https://github.com/mne-tools/mne-python/blob/main/mne/_fiff/constants.py for details.</p></div>\n\n"
      ]
    },
    {
      "cell_type": "markdown",
      "metadata": {},
      "source": [
        "Now let's generate realistic source activity with multiple trials:\n\nSimulation parameters\n\n"
      ]
    },
    {
      "cell_type": "code",
      "execution_count": null,
      "metadata": {
        "collapsed": false
      },
      "outputs": [],
      "source": [
        "simulation_params = {\n    \"orientation_type\": \"fixed\",    # Source orientation type\n    \"n_sources\": 50,               # Total number of source locations\n    \"nnz\": 6,                      # Number of active sources per trial\n    \"n_trials\": 3,                 # Number of trials to simulate\n    \"global_seed\": 42              # Seed for reproducibility\n}\n\n# Execute the simulation\nx_trials, x_active_indices_trials = source_simulator.simulate(**simulation_params)"
      ]
    },
    {
      "cell_type": "markdown",
      "metadata": {},
      "source": [
        ".. Hint::\n   If you are not familiar with ``**kwargs``, you can define the variables explicitly:\n\n```python\norientation_type = \"fixed\"\nn_sources = 50\nnnz = 6\nn_trials = 3\nseed = 42\n\nx_trials, x_active_indices_trials = source_simulator.simulate(\n    orientation_type=orientation_type,\n    n_sources=n_sources,\n    nnz=nnz,\n    n_trials=n_trials,\n    global_seed=seed\n)\n```\n   See [**kwargs documentation](https://book.pythontips.com/en/latest/args_and_kwargs.html) for more details on this syntax.\n\n"
      ]
    },
    {
      "cell_type": "markdown",
      "metadata": {},
      "source": [
        "Let's inspect the simulation results\n\n"
      ]
    },
    {
      "cell_type": "code",
      "execution_count": null,
      "metadata": {
        "collapsed": false
      },
      "outputs": [],
      "source": [
        "print(f\"\\nSimulation Results:\")\nprint(f\"  - Output shape: {x_trials.shape}\")\nprint(f\"    - {x_trials.shape[0]} trials\")\nprint(f\"    - {x_trials.shape[1]} sources\") \nprint(f\"    - {x_trials.shape[2]} time points\")\nprint(f\"  - Active indices shape: {x_active_indices_trials.shape}\")\nprint(f\"  - Data range: [{x_trials.min():.2e}, {x_trials.max():.2e}] Am\")\n\nprint(f\"\\nActive Sources by Trial:\")\nfor i, indices in enumerate(x_active_indices_trials):\n    print(f\"  Trial {i+1}: sources {[int(idx) for idx in sorted(indices)]}\")\n\n# Check for non-zero activity only in active sources\ntrial_0 = x_trials[0]  # First trial\nactive_sources_0 = x_active_indices_trials[0]\nn_nonzero = np.count_nonzero(np.any(trial_0, axis=1))\nprint(f\"\\nValidation:\")\nprint(f\"  - Sources with non-zero activity: {n_nonzero}\")\nprint(f\"  - Expected active sources: {len(active_sources_0)}\")\nprint(f\"  - Match: {n_nonzero == len(active_sources_0)}\")"
      ]
    },
    {
      "cell_type": "markdown",
      "metadata": {},
      "source": [
        "## Visualization with CaliBrain\n\nThe CaliBrain :class:`~calibrain.visualization.Visualizer` provides sophisticated plotting capabilities for\nsource data analysis\n\n"
      ]
    },
    {
      "cell_type": "code",
      "execution_count": null,
      "metadata": {
        "collapsed": false
      },
      "outputs": [],
      "source": [
        "from calibrain import Visualizer\n\n# Create visualizer instance with output directory\nsave_path = Path(\"tutorial_results\")\nsave_path.mkdir(exist_ok=True)\n\nviz = Visualizer(base_save_path=str(save_path), logger=logger)"
      ]
    },
    {
      "cell_type": "markdown",
      "metadata": {},
      "source": [
        "<div class=\"alert alert-info\"><h4>Note</h4><p>For an in-depth guide to the :class:`~calibrain.visualization.Visualizer` class and advanced visualization techniques, refer to the `tut-visualization` tutorial.</p></div>\n\n"
      ]
    },
    {
      "cell_type": "markdown",
      "metadata": {},
      "source": [
        "**Plot All Trials**\n\nFirst, let's visualize source activity across all trials:\n\n"
      ]
    },
    {
      "cell_type": "code",
      "execution_count": null,
      "metadata": {
        "collapsed": false
      },
      "outputs": [],
      "source": [
        "viz.plot_source_signals(\n    ERP_config=source_simulator.ERP_config,\n    x_trials=x_trials,\n    x_active_indices=x_active_indices_trials,\n    units=source_simulator.source_units,\n    trial_idx=None,  # If None, all trials are plotted\n    title=\"Source Activity - All Trials\",\n    save_dir=\"source_simulation\",\n    file_name=\"all_trials_overview\",\n    show=True\n)"
      ]
    },
    {
      "cell_type": "markdown",
      "metadata": {},
      "source": [
        "**Plot Single Trial**\n\nNow let's examine a single trial in detail:\n\n"
      ]
    },
    {
      "cell_type": "code",
      "execution_count": null,
      "metadata": {
        "collapsed": false
      },
      "outputs": [],
      "source": [
        "trial_idx = 0\nviz.plot_source_signals(\n    ERP_config=source_simulator.ERP_config,\n    x_trials=x_trials,\n    x_active_indices=x_active_indices_trials,\n    units=source_simulator.source_units,\n    trial_idx=trial_idx,\n    title=f\"Source Activity - Trial {trial_idx+1}\",\n    save_dir=\"source_simulation\", \n    file_name=f\"trial_{trial_idx+1}\",\n    show=True\n)"
      ]
    },
    {
      "cell_type": "markdown",
      "metadata": {},
      "source": [
        "<div class=\"alert alert-info\"><h4>Note</h4><p>The visualization automatically converts units from Amperes (Am) to \n   nanoAmperes (nAm) for better readability. No manual unit conversion is needed.</p></div>\n\n"
      ]
    },
    {
      "cell_type": "markdown",
      "metadata": {},
      "source": [
        "## Advanced ERP Configuration\n\nThe SourceSimulator supports various ERP configurations for different \nexperimental scenarios. Let's explore different parameter combinations.\n\n"
      ]
    },
    {
      "cell_type": "markdown",
      "metadata": {},
      "source": [
        "**High-Frequency Fast ERPs**\n\nConfiguration for simulating high-frequency, short-duration ERPs typical\nof early sensory responses:\n\n"
      ]
    },
    {
      "cell_type": "code",
      "execution_count": null,
      "metadata": {
        "collapsed": false
      },
      "outputs": [],
      "source": [
        "fast_erp_config = {\n    \"tmin\": -0.2,\n    \"tmax\": 0.6,\n    \"stim_onset\": 0.0,\n    \"sfreq\": 500,                # Higher sampling rate for fast dynamics\n    \"fmin\": 8,                   # Higher frequency band (8-30 Hz)\n    \"fmax\": 30,\n    \"amplitude\": 2.0,            # Larger amplitude for prominent responses\n    \"random_erp_timing\": True,   # Random timing for realistic variability\n    \"erp_min_length\": 80         # Minimum duration in samples\n}"
      ]
    },
    {
      "cell_type": "markdown",
      "metadata": {},
      "source": [
        "**Low-Frequency Slow ERPs**  \n\nConfiguration for simulating low-frequency, long-duration ERPs typical\nof cognitive processing:\n\n"
      ]
    },
    {
      "cell_type": "code",
      "execution_count": null,
      "metadata": {
        "collapsed": false
      },
      "outputs": [],
      "source": [
        "slow_erp_config = {\n    \"tmin\": -1.0,\n    \"tmax\": 2.0,\n    \"stim_onset\": 0.0,\n    \"sfreq\": 200,                # Lower sampling rate sufficient for slow dynamics\n    \"fmin\": 0.5,                 # Lower frequency band (0.5-3 Hz)\n    \"fmax\": 3,\n    \"amplitude\": 0.8,            # Moderate amplitude\n    \"random_erp_timing\": False,  # Fixed timing for consistent late components\n    \"erp_min_length\": 150        # Longer minimum duration\n}"
      ]
    },
    {
      "cell_type": "markdown",
      "metadata": {},
      "source": [
        "**Create Simulators**\n\n"
      ]
    },
    {
      "cell_type": "code",
      "execution_count": null,
      "metadata": {
        "collapsed": false
      },
      "outputs": [],
      "source": [
        "simulator_fast = SourceSimulator(ERP_config=fast_erp_config, logger=logger)\nsimulator_slow = SourceSimulator(ERP_config=slow_erp_config, logger=logger)\n\nprint(f\"\\nCreated specialized simulators:\")\nprint(f\"  - Fast ERP simulator: {fast_erp_config['fmin']}-{fast_erp_config['fmax']} Hz\")\nprint(f\"  - Slow ERP simulator: {slow_erp_config['fmin']}-{slow_erp_config['fmax']} Hz\")"
      ]
    },
    {
      "cell_type": "markdown",
      "metadata": {},
      "source": [
        "**Generate Comparative Simulations**\n\n\n"
      ]
    },
    {
      "cell_type": "code",
      "execution_count": null,
      "metadata": {
        "collapsed": false
      },
      "outputs": [],
      "source": [
        "comparison_params = {\n    \"orientation_type\": \"fixed\",\n    \"n_sources\": 20,\n    \"nnz\": 3,\n    \"n_trials\": 1,\n    \"global_seed\": 42\n}\n\n# Generate fast ERPs\nx_fast, x_fast_indices = simulator_fast.simulate(**comparison_params)\n\n# Generate slow ERPs (use different seed for variety)\ncomparison_params[\"global_seed\"] = 84\nx_slow, x_slow_indices = simulator_slow.simulate(**comparison_params)\n\nprint(f\"\\nComparison Results:\")\nprint(f\"  Fast ERPs shape: {x_fast.shape}\") # (n_trials, n_sources, n_timepoints)\nprint(f\"  Slow ERPs shape: {x_slow.shape}\") # (n_trials, n_sources, n_timepoints)\nprint(f\"  Fast ERP active sources: {x_fast_indices[0]}\")\nprint(f\"  Slow ERP active sources: {x_slow_indices[0]}\")"
      ]
    },
    {
      "cell_type": "markdown",
      "metadata": {},
      "source": [
        "Now lets create comparative visualizations to highlight the differences:\n\n**Fast ERP visualization**\n\n"
      ]
    },
    {
      "cell_type": "code",
      "execution_count": null,
      "metadata": {
        "collapsed": false
      },
      "outputs": [],
      "source": [
        "viz.plot_source_signals(\n    ERP_config=simulator_fast.ERP_config,\n    x_trials=x_fast,\n    x_active_indices=x_fast_indices,\n    units=simulator_fast.source_units,\n    title=\"High-Frequency Fast ERPs (8-30 Hz)\",\n    save_dir=\"erp_comparison\",\n    file_name=\"fast_erp_simulation\",\n    show=True\n)"
      ]
    },
    {
      "cell_type": "markdown",
      "metadata": {},
      "source": [
        "**Slow ERP visualization**\n\n"
      ]
    },
    {
      "cell_type": "code",
      "execution_count": null,
      "metadata": {
        "collapsed": false
      },
      "outputs": [],
      "source": [
        "viz.plot_source_signals(\n    ERP_config=simulator_slow.ERP_config,\n    x_trials=x_slow,\n    x_active_indices=x_slow_indices,\n    units=simulator_slow.source_units,\n    title=\"Low-Frequency Slow ERPs (0.5-3 Hz)\",\n    save_dir=\"erp_comparison\",\n    file_name=\"slow_erp_simulation\", \n    show=True\n)"
      ]
    },
    {
      "cell_type": "markdown",
      "metadata": {},
      "source": [
        "## Integration with CaliBrain Pipeline\n\nThe SourceSimulator is designed to work seamlessly with other CaliBrain\ncomponents in a complete neuroimaging simulation pipeline.\n\n**Example Pipeline Code**\n\nHere's a conceptual example of how :class:`~calibrain.source_simulation.SourceSimulator` integrates with\nother CaliBrain components:\n\n"
      ]
    },
    {
      "cell_type": "code",
      "execution_count": null,
      "metadata": {
        "collapsed": false
      },
      "outputs": [],
      "source": [
        "pipeline_example = '''\n# Complete CaliBrain simulation pipeline example\n\nfrom calibrain import (\n    LeadfieldBuilder, SourceSimulator, SensorSimulator, \n    SourceEstimator, UncertaintyEstimator, MetricEvaluator, Visualizer\n)\n\n# 1. Build leadfield matrix\nleadfield_builder = LeadfieldBuilder(...)\nL = leadfield_builder.get_leadfield(\n    subject=\"fsaverage\", \n    orientation_type=\"fixed\"\n)\n\n# 2. Simulate source activity  \nsource_simulator = SourceSimulator(ERP_config=erp_config)\nx_trials, x_active_indices = source_simulator.simulate(\n    orientation_type=\"fixed\",\n    n_sources=L.shape[1],  # Match leadfield dimensions\n    nnz=5,\n    n_trials=10\n)\n\n# 3. Simulate sensor measurements\nsensor_simulator = SensorSimulator()\ny_clean, y_noisy, noise, noise_var = sensor_simulator.simulate(\n    x_trials=x_trials,\n    L=L,\n    alpha_SNR=0.1,\n    n_trials=10\n)\n\n# 4. Estimate sources\nsource_estimator = SourceEstimator(solver=\"gamma_map\")\nsource_estimator.fit(L, y_noisy[0])\nx_hat, x_hat_indices, posterior_cov = source_estimator.predict(y_noisy[0])\n\n# 5. Estimate uncertainty (-> credible intervals)\nuncertainty_estimator = UncertaintyEstimator()\nci_lower, ci_upper, _, empirical_coverage = \\\\\n    uncertainty_estimator.get_confidence_intervals_data(\n        x=x_trials[0],\n        x_hat=x_hat,\n        posterior_cov=posterior_cov,\n        orientation_type=\"fixed\"\n    )\n\n# 6. Evaluate performance\nmetric_evaluator = MetricEvaluator()\nmetrics = metric_evaluator.evaluate(\n    x_true=x_trials[0],\n    x_hat=x_hat,\n    active_indices_true=x_active_indices[0],\n    active_indices_hat=x_hat_indices\n)\n\n# 7. Visualize results\nvisualizer = Visualizer()\nvisualizer.plot_source_comparison(x_trials, x_hat, x_active_indices)\n'''"
      ]
    }
  ],
  "metadata": {
    "kernelspec": {
      "display_name": "Python 3",
      "language": "python",
      "name": "python3"
    },
    "language_info": {
      "codemirror_mode": {
        "name": "ipython",
        "version": 3
      },
      "file_extension": ".py",
      "mimetype": "text/x-python",
      "name": "python",
      "nbconvert_exporter": "python",
      "pygments_lexer": "ipython3",
      "version": "3.13.2"
    }
  },
  "nbformat": 4,
  "nbformat_minor": 0
}