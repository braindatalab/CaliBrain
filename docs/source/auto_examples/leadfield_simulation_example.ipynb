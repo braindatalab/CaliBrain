{
  "cells": [
    {
      "cell_type": "code",
      "execution_count": null,
      "metadata": {
        "collapsed": false
      },
      "outputs": [],
      "source": [
        "# This tutorial is available for download as a Jupyter notebook"
      ]
    },
    {
      "cell_type": "markdown",
      "metadata": {},
      "source": [
        "\n\n# Leadfield Matrix Simulation\n\nThis example demonstrates how to simulate leadfield matrices using CaliBrain's\nLeadfieldBuilder component.\n\nThe script shows how to:\n- Load configuration from YAML files\n- Set up logging for the simulation pipeline\n- Initialize and run leadfield matrix computation\n- Handle command-line arguments for flexible execution\n\nThis is useful for setting up forward models in EEG/MEG source localization.\n"
      ]
    },
    {
      "cell_type": "code",
      "execution_count": null,
      "metadata": {
        "collapsed": false
      },
      "outputs": [],
      "source": [
        "import argparse\nfrom mne.datasets import sample\nfrom calibrain.utils import load_config\nimport logging\nfrom pathlib import Path\nfrom calibrain import LeadfieldBuilder\n\n# TEST"
      ]
    },
    {
      "cell_type": "markdown",
      "metadata": {},
      "source": [
        "## Configuration and Setup\nFirst, we set up the argument parser and load the configuration file.\n\n"
      ]
    },
    {
      "cell_type": "code",
      "execution_count": null,
      "metadata": {
        "collapsed": false
      },
      "outputs": [],
      "source": [
        "# def main(args=None):\n#     # Set up argument parser\n#     parser = argparse.ArgumentParser(description=\"Run the Leadfield simulation pipeline.\")\n#     parser.add_argument(\n#         \"--config\",\n#         type=str,\n#         required=True,\n#         help=\"Path to the YAML configuration file of leadfield simulation.\"\n#     )\n#     parser.add_argument(\n#         \"--log-level\",\n#         type=str,\n#         choices=[\"NOTSET\", \"DEBUG\", \"INFO\", \"WARNING\", \"ERROR\", \"CRITICAL\"],\n#         help=\"Set the logging level. Overrides the value in the configuration file.\"\n#     )\n\n    # Parse arguments (use provided args if given, otherwise use sys.argv)\n    # args = parser.parse_args(args)\n    # config = load_config(Path(args.config))\n\n    ###########################################################################\n    # Logging Setup\n    # -------------\n    # Configure logging level and format for the simulation pipeline.\n    \n    # Determine log level\n    # valid_log_levels = [\"NOTSET\", \"DEBUG\", \"INFO\", \"WARNING\", \"ERROR\", \"CRITICAL\"]\n    # log_level = args.log_level or config.get(\"log_level\", \"INFO\").upper()\n    # if log_level not in valid_log_levels:\n    #     print(f\"Invalid log level '{log_level}' in configuration. Defaulting to 'INFO'.\")\n    #     log_level = \"INFO\"\n\n    # Configure logging\n    # logging.basicConfig(level=getattr(logging, log_level), format=\"%(asctime)s - %(levelname)s - %(message)s\")\n    # logger = logging.getLogger(__name__)\n    # logger.info(f\"Using configuration file: {Path(args.config)}\")\n\n    ###########################################################################\n    # Leadfield Simulation\n    # --------------------\n    # Initialize the LeadfieldBuilder and run the simulation pipeline.\n    \n    # Initialize simulation\n    # leadfield_sim = LeadfieldBuilder(config=config, logger=logger)\n\n    # Run the pipeline\n    # try:\n    #     leadfield = leadfield_sim.simulate()\n    #     logger.info(f\"Leadfield shape: {leadfield.shape}\")\n    #     print(f\"Leadfield simulation completed successfully!\")\n    #     print(f\"   Shape: {leadfield.shape}\")\n    #     return leadfield\n    # except Exception as e:\n    #     logger.error(f\"An error occurred during the pipeline execution: {e}\")\n    #     raise SystemExit(1)"
      ]
    },
    {
      "cell_type": "markdown",
      "metadata": {},
      "source": [
        "## Run the Example\nExecute the leadfield simulation with predefined configuration.\n\n"
      ]
    },
    {
      "cell_type": "code",
      "execution_count": null,
      "metadata": {
        "collapsed": false
      },
      "outputs": [],
      "source": [
        "# if __name__ == \"__main__\":\n#     # Run with example configuration\n#     main([\n#         \"--config\", \"configs/leadfield_sim_cfg.yml\",\n#         \"--log-level\", \"INFO\"\n#     ])"
      ]
    }
  ],
  "metadata": {
    "kernelspec": {
      "display_name": "Python 3",
      "language": "python",
      "name": "python3"
    },
    "language_info": {
      "codemirror_mode": {
        "name": "ipython",
        "version": 3
      },
      "file_extension": ".py",
      "mimetype": "text/x-python",
      "name": "python",
      "nbconvert_exporter": "python",
      "pygments_lexer": "ipython3",
      "version": "3.13.2"
    }
  },
  "nbformat": 4,
  "nbformat_minor": 0
}